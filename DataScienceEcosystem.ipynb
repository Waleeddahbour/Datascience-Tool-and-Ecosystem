{
 "cells": [
  {
   "cell_type": "markdown",
   "id": "a0d34f6b",
   "metadata": {},
   "source": [
    "# Data Science Tools and Ecosystem"
   ]
  },
  {
   "cell_type": "markdown",
   "id": "dfd6891e",
   "metadata": {},
   "source": [
    "## In this notebook, Data Science Tools and Ecosystem are summarized."
   ]
  },
  {
   "cell_type": "markdown",
   "id": "cfe64951",
   "metadata": {},
   "source": [
    "### Objectives: \n",
    "* List popular languages that Data Scientists use.\n",
    "* List commonly used libraries used by Data Scientists.\n",
    "* Comment on Data Science tools.\n"
   ]
  },
  {
   "cell_type": "markdown",
   "id": "c5978dc9",
   "metadata": {},
   "source": [
    "### Some of the populaar languages that Data Scientists use are:\n",
    "1. Python\n",
    "2. R\n",
    "3. Julia\n",
    "4. SQL"
   ]
  },
  {
   "cell_type": "markdown",
   "id": "c0fc8dd8",
   "metadata": {},
   "source": [
    "### some of the commonly used libraries by Data Scientists include:\n",
    "1. Pandas \n",
    "2. ggplot\n",
    "3. caret\n",
    "4. sckit-learn"
   ]
  },
  {
   "cell_type": "markdown",
   "id": "73afe5c5",
   "metadata": {},
   "source": [
    "\n",
    "\n",
    "|Data Science Tools|\n",
    "-----------------------------\n",
    "|Jupyter Notebook|\n",
    "|MySql|\n",
    "|Anaconda|\n",
    "\n"
   ]
  },
  {
   "cell_type": "markdown",
   "id": "0c9c936f",
   "metadata": {},
   "source": [
    "### Below are a few examples of evaluating arithmeric expressions in Python."
   ]
  },
  {
   "cell_type": "code",
   "execution_count": 1,
   "id": "dc2f0759",
   "metadata": {},
   "outputs": [
    {
     "data": {
      "text/plain": [
       "17"
      ]
     },
     "execution_count": 1,
     "metadata": {},
     "output_type": "execute_result"
    }
   ],
   "source": [
    "# This is a simple arithmetic expression to multipy then add integers\n",
    "(3*4)+5"
   ]
  },
  {
   "cell_type": "code",
   "execution_count": 2,
   "id": "d3f935fc",
   "metadata": {},
   "outputs": [
    {
     "data": {
      "text/plain": [
       "3.3333333333333335"
      ]
     },
     "execution_count": 2,
     "metadata": {},
     "output_type": "execute_result"
    }
   ],
   "source": [
    "# this will convert 200 minutes to hours by dividing by 60\n",
    "200/60"
   ]
  },
  {
   "cell_type": "markdown",
   "id": "27a6e7b2",
   "metadata": {},
   "source": [
    "## Author:\n",
    "\n",
    "Waleed"
   ]
  }
 ],
 "metadata": {
  "kernelspec": {
   "display_name": "Python 3",
   "language": "python",
   "name": "python3"
  },
  "language_info": {
   "codemirror_mode": {
    "name": "ipython",
    "version": 3
   },
   "file_extension": ".py",
   "mimetype": "text/x-python",
   "name": "python",
   "nbconvert_exporter": "python",
   "pygments_lexer": "ipython3",
   "version": "3.7.0"
  }
 },
 "nbformat": 4,
 "nbformat_minor": 5
}
